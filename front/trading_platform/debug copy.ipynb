{
 "cells": [
  {
   "cell_type": "code",
   "execution_count": 16,
   "metadata": {},
   "outputs": [
    {
     "name": "stdout",
     "output_type": "stream",
     "text": [
      "数据库迁移完成\n"
     ]
    }
   ],
   "source": [
    "import sys\n",
    "# sys.path.append(r'F:\\workspace\\jailbird\\front\\trading_platform')\n",
    "from datetime import datetime\n",
    "\n",
    "from app.oms.storage import DataStorage\n",
    "from app.oms.constant import OrderStatus, OrderType\n",
    "import traceback\n",
    "import requests\n",
    "import json\n",
    "import os\n",
    "import sqlite3\n",
    "from itertools import groupby\n",
    "from operator import itemgetter\n",
    "# 全局的交易系统实例\n",
    "trading_system = None\n",
    "main_engine = None\n",
    "\n",
    "# 创建数据库连接\n",
    "storage = DataStorage(os.getenv('TRADING_DATA_PATH'))"
   ]
  },
  {
   "cell_type": "code",
   "execution_count": 11,
   "metadata": {},
   "outputs": [
    {
     "name": "stdout",
     "output_type": "stream",
     "text": [
      "状态码: 200\n"
     ]
    }
   ],
   "source": [
    "url = \"http://127.0.0.1:8000/oms/api/order-add\"\n",
    "\n",
    "# 构建请求数据\n",
    "data = {\n",
    "    \"order_id\": \"1234\",\n",
    "    \"symbol\": \"000001\",\n",
    "    \"price\": 100,\n",
    "    \"volume\": 200,\n",
    "    \"order_type\": \"LIMIT\",\n",
    "    \"direction\": \"BUY\",\n",
    "    \"traded_price\": None,\n",
    "    \"filled_volume\": 0,\n",
    "    \"status\": \"SUBMITTING\",\n",
    "    \"trader_platform\": \"qmt\",\n",
    "    \"is_active\": True,\n",
    "    \"strategy_name\": \"策略二\",\n",
    "    \"execution_strategy\": \"BasicStrategy\",\n",
    "    \"parent_id\": None,\n",
    "    \"create_time\": \"2025-04-07 10:00:00\"\n",
    "}\n",
    "\n",
    "# 发送POST请求\n",
    "headers = {\"Content-Type\": \"application/json\"}\n",
    "response = requests.post(url, data=json.dumps(data), headers=headers)\n",
    "\n",
    "# 打印响应结果\n",
    "print(f\"状态码: {response.status_code}\")"
   ]
  },
  {
   "cell_type": "code",
   "execution_count": 17,
   "metadata": {},
   "outputs": [
    {
     "data": {
      "text/plain": [
       "[]"
      ]
     },
     "execution_count": 17,
     "metadata": {},
     "output_type": "execute_result"
    }
   ],
   "source": [
    "storage.get_order_history()"
   ]
  },
  {
   "cell_type": "code",
   "execution_count": null,
   "metadata": {},
   "outputs": [],
   "source": []
  }
 ],
 "metadata": {
  "kernelspec": {
   "display_name": "sim",
   "language": "python",
   "name": "python3"
  },
  "language_info": {
   "codemirror_mode": {
    "name": "ipython",
    "version": 3
   },
   "file_extension": ".py",
   "mimetype": "text/x-python",
   "name": "python",
   "nbconvert_exporter": "python",
   "pygments_lexer": "ipython3",
   "version": "3.9.21"
  }
 },
 "nbformat": 4,
 "nbformat_minor": 2
}
